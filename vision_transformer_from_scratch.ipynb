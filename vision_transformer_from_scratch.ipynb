{
 "cells": [
  {
   "cell_type": "markdown",
   "id": "988370cd-c599-4876-99aa-2471e1753e97",
   "metadata": {},
   "source": [
    "# %% [markdown]\n",
    "\n",
    " Installing required libraries\n",
    " !pip install matplotlib tqdm"
   ]
  },
  {
   "cell_type": "markdown",
   "id": "a332b363-a1d2-4b68-b533-1caeb72ae4e6",
   "metadata": {},
   "source": [
    "# %% [markdown]\n",
    "\n",
    "## 1. Importing required libraries"
   ]
  },
  {
   "cell_type": "code",
   "execution_count": null,
   "id": "59720b72-147a-4ad1-82f6-130f4490e1a8",
   "metadata": {},
   "outputs": [],
   "source": [
    "import torch\n",
    "import torch.nn as nn\n",
    "import torch.nn.functional as F\n",
    "import torch.optim as optim\n",
    "from torch.utils.data import DataLoader\n",
    "from torchvision import datasets, transforms\n",
    "# import torchvision\n",
    "import numpy as np\n",
    "import random\n",
    "import os\n",
    "import matplotlib.pyplot as plt\n",
    "from tqdm import tqdm"
   ]
  },
  {
   "cell_type": "markdown",
   "id": "0ac055b0-05a8-40b2-9aa3-b768fffba028",
   "metadata": {},
   "source": [
    "# %% [markdown]\n",
    "\n",
    " Check version of torch and torchvision"
   ]
  },
  {
   "cell_type": "code",
   "execution_count": null,
   "id": "e8607141-6012-4b0e-9564-34bff874fff9",
   "metadata": {},
   "outputs": [
    {
     "name": "stdout",
     "output_type": "stream",
     "text": [
      "Torch version: 2.1.0+cu118\n"
     ]
    }
   ],
   "source": [
    "print(f\"Torch version: {torch.__version__}\")\n",
    "# print(f\"Torchvision version: {torchvision.__version__}\")"
   ]
  },
  {
   "cell_type": "markdown",
   "id": "e0b39ad8-6dcb-4071-b305-205c720accce",
   "metadata": {},
   "source": [
    "# %% [markdown]\n",
    "\n",
    "## 2. Setting up the device"
   ]
  },
  {
   "cell_type": "code",
   "execution_count": null,
   "id": "8da34add-5e41-4734-8bb2-821d6ca5ab6c",
   "metadata": {},
   "outputs": [
    {
     "name": "stdout",
     "output_type": "stream",
     "text": [
      "Using device: cuda\n"
     ]
    }
   ],
   "source": [
    "device = torch.device(\"cuda\" if torch.cuda.is_available() else \"cpu\")\n",
    "print(f\"Using device: {device}\")"
   ]
  },
  {
   "cell_type": "markdown",
   "id": "558d3148-7d4a-447d-93e0-c111d45f63da",
   "metadata": {},
   "source": [
    "# %% [markdown]\n",
    "\n",
    "## 3. Set the seed"
   ]
  },
  {
   "cell_type": "code",
   "execution_count": null,
   "id": "8a7680b2-b6f1-488d-8163-6788a6e7f8ce",
   "metadata": {},
   "outputs": [],
   "source": [
    "torch.manual_seed(42)\n",
    "torch.cuda.manual_seed(42)\n",
    "random.seed(42)"
   ]
  },
  {
   "cell_type": "markdown",
   "id": "cd958afe-dafc-4472-8711-3f61518dcc60",
   "metadata": {},
   "source": [
    "# %% [markdown]\n",
    "\n",
    "## 4. Setting up the hyperparameters"
   ]
  },
  {
   "cell_type": "code",
   "execution_count": null,
   "id": "52876634-6e4d-42a2-a2c0-8adc947f48ff",
   "metadata": {},
   "outputs": [],
   "source": [
    "BATCH_SIZE = 128\n",
    "EPOCHS = 30\n",
    "LEARNING_RATE = 3e-4\n",
    "PATCH_SIZE = 4\n",
    "NUM_CLASSES = 10\n",
    "IMAGE_SIZE = 32\n",
    "CHANNELS = 3\n",
    "EMBED_DIM = 256\n",
    "NUM_HEADS = 8\n",
    "DEPTH = 6\n",
    "MLP_DIM = 512\n",
    "DROP_RATE = 0.1"
   ]
  },
  {
   "cell_type": "markdown",
   "id": "e57de65b-adb5-450c-99b7-df5e6e668cf0",
   "metadata": {},
   "source": [
    "# %% [markdown]\n",
    "\n",
    "## 5. Define the data transformation"
   ]
  },
  {
   "cell_type": "code",
   "execution_count": null,
   "id": "4fe260d0-17e4-4cb1-9b7d-e545cfdf54ac",
   "metadata": {},
   "outputs": [],
   "source": [
    "transform = transforms.Compose([\n",
    "    transforms.RandomCrop(32, padding=4),\n",
    "    transforms.RandomHorizontalFlip(),\n",
    "    transforms.RandomRotation(degrees=30),\n",
    "    transforms.ColorJitter(brightness=0.1, contrast=0.1, saturation=0.1, hue=0.1),\n",
    "    transforms.ToTensor(),\n",
    "    transforms.Normalize(mean=0.5, std=0.5)\n",
    "])"
   ]
  },
  {
   "cell_type": "markdown",
   "id": "91d74ba8-43ac-4c54-81c2-faf33db0774c",
   "metadata": {},
   "source": [
    "# %% [markdown]\n",
    "\n",
    "## 6. Load the dataset"
   ]
  },
  {
   "cell_type": "code",
   "execution_count": null,
   "id": "a93a28ce-3757-476c-b830-f5b3df764abb",
   "metadata": {},
   "outputs": [
    {
     "name": "stdout",
     "output_type": "stream",
     "text": [
      "Files already downloaded and verified\n",
      "Files already downloaded and verified\n"
     ]
    }
   ],
   "source": [
    "train_dataset = datasets.CIFAR10(root='./data', train=True, download=True, transform=transform)\n",
    "test_dataset = datasets.CIFAR10(root='./data', train=False, download=True, transform=transform)"
   ]
  },
  {
   "cell_type": "markdown",
   "id": "e2abc588-d2eb-43be-b6dd-c1abe1672284",
   "metadata": {},
   "source": [
    "# %% [markdown]\n",
    "\n",
    "## 7. Load the dataset"
   ]
  },
  {
   "cell_type": "code",
   "execution_count": null,
   "id": "5527d63f-27b4-4449-ac5f-86a10b1b3014",
   "metadata": {},
   "outputs": [],
   "source": [
    "train_loader = DataLoader(train_dataset, batch_size=BATCH_SIZE, shuffle=True)\n",
    "test_loader = DataLoader(test_dataset, batch_size=BATCH_SIZE, shuffle=False)"
   ]
  },
  {
   "cell_type": "markdown",
   "id": "5306ce01-d36c-4d9c-a326-ab7a54f49f1d",
   "metadata": {},
   "source": [
    "# %% [markdown]\n",
    "\n",
    "## 8. Check the shape of the dataset"
   ]
  },
  {
   "cell_type": "code",
   "execution_count": null,
   "id": "9dbcdc76-9e77-4818-9b1b-2ab426890e19",
   "metadata": {},
   "outputs": [
    {
     "name": "stdout",
     "output_type": "stream",
     "text": [
      "Total Train dataset batches: 391 and each batch size: 128\n",
      "Total Test dataset batches: 79 and each batch size: 128\n"
     ]
    }
   ],
   "source": [
    "print(f\"Total Train dataset batches: {len(train_loader)} and each batch size: {BATCH_SIZE}\")\n",
    "print(f\"Total Test dataset batches: {len(test_loader)} and each batch size: {BATCH_SIZE}\")"
   ]
  },
  {
   "cell_type": "markdown",
   "id": "9e873f60-89dd-464b-b2e9-6b364a55828b",
   "metadata": {},
   "source": [
    "# %% [markdown]\n",
    "\n",
    "## 9. Building the Vision Transformer model"
   ]
  },
  {
   "cell_type": "code",
   "execution_count": null,
   "id": "94502382-7781-412c-9271-3f7fb5c94f8f",
   "metadata": {},
   "outputs": [],
   "source": [
    "class PatchEmbedding(nn.Module):\n",
    "    def __init__(self, image_size, patch_size, in_channels, embed_dim):\n",
    "        super().__init__()\n",
    "        self.patch_size = patch_size\n",
    "        self.proj = nn.Conv2d(\n",
    "            in_channels=in_channels, \n",
    "            out_channels=embed_dim, \n",
    "            kernel_size=patch_size, \n",
    "            stride=patch_size\n",
    "            )\n",
    "        self.num_patches = (image_size // patch_size) ** 2\n",
    "        self.cls_token = nn.Parameter(torch.randn(1, 1, embed_dim))\n",
    "        self.pos_embed = nn.Parameter(torch.randn(1, self.num_patches + 1, embed_dim))\n",
    "\n",
    "    def forward(self, x: torch.Tensor):\n",
    "        B = x.size(0)\n",
    "        x = self.proj(x) # (B, embed_dim, H, W)\n",
    "        x = x.flatten(2) # (B, embed_dim, H*W)\n",
    "        x = x.transpose(1, 2) # (B, H*W, embed_dim)\n",
    "        cls_token = self.cls_token.expand(B, -1, -1) # (B, 1, embed_dim)\n",
    "        x = torch.cat([cls_token, x], dim=1) # (B, 1 + H*W, embed_dim)\n",
    "        x = x + self.pos_embed # (B, 1 + H*W, embed_dim)\n",
    "        return x"
   ]
  },
  {
   "cell_type": "markdown",
   "id": "d5a8556d-e717-473a-8f29-297dac72b581",
   "metadata": {},
   "source": [
    "# %% [markdown]\n",
    "\n",
    "## 10. MLP Block"
   ]
  },
  {
   "cell_type": "code",
   "execution_count": null,
   "id": "ddc2f73d-e738-466b-99ab-16e59895bc9d",
   "metadata": {},
   "outputs": [],
   "source": [
    "class MLP(nn.Module):\n",
    "    def __init__(self, in_features, hidden_features, drop_rate=0.1):\n",
    "        super().__init__()\n",
    "        self.fc1 = nn.Linear(in_features, hidden_features)\n",
    "        self.fc2 = nn.Linear(hidden_features, in_features)\n",
    "        self.dropout = nn.Dropout(drop_rate)\n",
    "\n",
    "    def forward(self, x: torch.Tensor):\n",
    "        x = self.dropout(F.gelu(self.fc1(x)))\n",
    "        x = self.dropout(self.fc2(x))\n",
    "        return x"
   ]
  },
  {
   "cell_type": "markdown",
   "id": "f335352b-01ea-441c-aa80-3971908eac0a",
   "metadata": {},
   "source": [
    "# %% [markdown]\n",
    "\n",
    "## 11. Transformer Encoder"
   ]
  },
  {
   "cell_type": "code",
   "execution_count": null,
   "id": "aff2952b-a53b-417f-a5cb-df194086e771",
   "metadata": {},
   "outputs": [],
   "source": [
    "class TransformerEncoder(nn.Module):\n",
    "    def __init__(self, embed_dim, num_heads, mlp_dim, drop_rate=0.1):\n",
    "        super().__init__()\n",
    "        self.norm1 = nn.LayerNorm(embed_dim)\n",
    "        self.attn = nn.MultiheadAttention(embed_dim, num_heads, dropout=drop_rate, batch_first=True)\n",
    "        self.norm2 = nn.LayerNorm(embed_dim)\n",
    "        self.mlp = MLP(embed_dim, mlp_dim, drop_rate)\n",
    "\n",
    "    def forward(self, x: torch.Tensor):\n",
    "        x = x + self.attn(self.norm1(x), self.norm1(x), self.norm1(x))[0]\n",
    "        x = x + self.mlp(self.norm2(x))\n",
    "        return x"
   ]
  },
  {
   "cell_type": "markdown",
   "id": "514a1bbd-e2ab-4b82-b3eb-1144dedd6dad",
   "metadata": {},
   "source": [
    "# %% [markdown]\n",
    "\n",
    "## 12. Vision Transformer"
   ]
  },
  {
   "cell_type": "code",
   "execution_count": null,
   "id": "7a4ccf24-8a0a-45da-8b3a-9cca6e543a2f",
   "metadata": {},
   "outputs": [],
   "source": [
    "class VisionTransformer(nn.Module):\n",
    "    def __init__(self, img_size, patch_size, in_channels, num_classes, embed_dim, num_heads, mlp_dim, depth, drop_rate=0.1):\n",
    "        super().__init__()\n",
    "        self.patch_embedding = PatchEmbedding(img_size, patch_size, in_channels, embed_dim)\n",
    "        self.transformer_encoder = nn.Sequential(*[\n",
    "            TransformerEncoder(embed_dim, num_heads, mlp_dim, drop_rate) \n",
    "            for _ in range(depth)\n",
    "            ])\n",
    "        self.norm = nn.LayerNorm(embed_dim)\n",
    "        self.head = nn.Linear(embed_dim, num_classes)\n",
    "\n",
    "    def forward(self, x: torch.Tensor):\n",
    "        x = self.patch_embedding(x)\n",
    "        x = self.transformer_encoder(x)\n",
    "        x = self.norm(x)\n",
    "        cls_token = x[:, 0]\n",
    "        x = self.head(cls_token)\n",
    "        return x"
   ]
  },
  {
   "cell_type": "markdown",
   "id": "49c1d49f-792e-4c1e-92ad-b6954736f8d1",
   "metadata": {},
   "source": [
    "# %% [markdown]\n",
    "\n",
    "## 13. Initialize the model"
   ]
  },
  {
   "cell_type": "code",
   "execution_count": null,
   "id": "613fa3a3-c182-4fd0-8b03-24c52a6d7e95",
   "metadata": {},
   "outputs": [],
   "source": [
    "model = VisionTransformer(\n",
    "    img_size=IMAGE_SIZE,\n",
    "    patch_size=PATCH_SIZE,\n",
    "    in_channels=CHANNELS,\n",
    "    num_classes=NUM_CLASSES,\n",
    "    embed_dim=EMBED_DIM,\n",
    "    num_heads=NUM_HEADS,\n",
    "    mlp_dim=MLP_DIM,\n",
    "    depth=DEPTH,\n",
    "    drop_rate=DROP_RATE\n",
    "    ).to(device)"
   ]
  },
  {
   "cell_type": "markdown",
   "id": "dd4892f7-bf43-417e-8693-ff973f422fac",
   "metadata": {},
   "source": [
    "# %% [markdown]\n",
    "\n",
    "## 14. Print the model summary"
   ]
  },
  {
   "cell_type": "code",
   "execution_count": null,
   "id": "4de6376a-3467-48d9-8b2c-7ba934985573",
   "metadata": {},
   "outputs": [
    {
     "name": "stdout",
     "output_type": "stream",
     "text": [
      "VisionTransformer(\n",
      "  (patch_embedding): PatchEmbedding(\n",
      "    (proj): Conv2d(3, 256, kernel_size=(4, 4), stride=(4, 4))\n",
      "  )\n",
      "  (transformer_encoder): Sequential(\n",
      "    (0): TransformerEncoder(\n",
      "      (norm1): LayerNorm((256,), eps=1e-05, elementwise_affine=True)\n",
      "      (attn): MultiheadAttention(\n",
      "        (out_proj): NonDynamicallyQuantizableLinear(in_features=256, out_features=256, bias=True)\n",
      "      )\n",
      "      (norm2): LayerNorm((256,), eps=1e-05, elementwise_affine=True)\n",
      "      (mlp): MLP(\n",
      "        (fc1): Linear(in_features=256, out_features=512, bias=True)\n",
      "        (fc2): Linear(in_features=512, out_features=256, bias=True)\n",
      "        (dropout): Dropout(p=0.1, inplace=False)\n",
      "      )\n",
      "    )\n",
      "    (1): TransformerEncoder(\n",
      "      (norm1): LayerNorm((256,), eps=1e-05, elementwise_affine=True)\n",
      "      (attn): MultiheadAttention(\n",
      "        (out_proj): NonDynamicallyQuantizableLinear(in_features=256, out_features=256, bias=True)\n",
      "      )\n",
      "      (norm2): LayerNorm((256,), eps=1e-05, elementwise_affine=True)\n",
      "      (mlp): MLP(\n",
      "        (fc1): Linear(in_features=256, out_features=512, bias=True)\n",
      "        (fc2): Linear(in_features=512, out_features=256, bias=True)\n",
      "        (dropout): Dropout(p=0.1, inplace=False)\n",
      "      )\n",
      "    )\n",
      "    (2): TransformerEncoder(\n",
      "      (norm1): LayerNorm((256,), eps=1e-05, elementwise_affine=True)\n",
      "      (attn): MultiheadAttention(\n",
      "        (out_proj): NonDynamicallyQuantizableLinear(in_features=256, out_features=256, bias=True)\n",
      "      )\n",
      "      (norm2): LayerNorm((256,), eps=1e-05, elementwise_affine=True)\n",
      "      (mlp): MLP(\n",
      "        (fc1): Linear(in_features=256, out_features=512, bias=True)\n",
      "        (fc2): Linear(in_features=512, out_features=256, bias=True)\n",
      "        (dropout): Dropout(p=0.1, inplace=False)\n",
      "      )\n",
      "    )\n",
      "    (3): TransformerEncoder(\n",
      "      (norm1): LayerNorm((256,), eps=1e-05, elementwise_affine=True)\n",
      "      (attn): MultiheadAttention(\n",
      "        (out_proj): NonDynamicallyQuantizableLinear(in_features=256, out_features=256, bias=True)\n",
      "      )\n",
      "      (norm2): LayerNorm((256,), eps=1e-05, elementwise_affine=True)\n",
      "      (mlp): MLP(\n",
      "        (fc1): Linear(in_features=256, out_features=512, bias=True)\n",
      "        (fc2): Linear(in_features=512, out_features=256, bias=True)\n",
      "        (dropout): Dropout(p=0.1, inplace=False)\n",
      "      )\n",
      "    )\n",
      "    (4): TransformerEncoder(\n",
      "      (norm1): LayerNorm((256,), eps=1e-05, elementwise_affine=True)\n",
      "      (attn): MultiheadAttention(\n",
      "        (out_proj): NonDynamicallyQuantizableLinear(in_features=256, out_features=256, bias=True)\n",
      "      )\n",
      "      (norm2): LayerNorm((256,), eps=1e-05, elementwise_affine=True)\n",
      "      (mlp): MLP(\n",
      "        (fc1): Linear(in_features=256, out_features=512, bias=True)\n",
      "        (fc2): Linear(in_features=512, out_features=256, bias=True)\n",
      "        (dropout): Dropout(p=0.1, inplace=False)\n",
      "      )\n",
      "    )\n",
      "    (5): TransformerEncoder(\n",
      "      (norm1): LayerNorm((256,), eps=1e-05, elementwise_affine=True)\n",
      "      (attn): MultiheadAttention(\n",
      "        (out_proj): NonDynamicallyQuantizableLinear(in_features=256, out_features=256, bias=True)\n",
      "      )\n",
      "      (norm2): LayerNorm((256,), eps=1e-05, elementwise_affine=True)\n",
      "      (mlp): MLP(\n",
      "        (fc1): Linear(in_features=256, out_features=512, bias=True)\n",
      "        (fc2): Linear(in_features=512, out_features=256, bias=True)\n",
      "        (dropout): Dropout(p=0.1, inplace=False)\n",
      "      )\n",
      "    )\n",
      "  )\n",
      "  (norm): LayerNorm((256,), eps=1e-05, elementwise_affine=True)\n",
      "  (head): Linear(in_features=256, out_features=10, bias=True)\n",
      ")\n",
      "Total number of parameters: 3195146\n"
     ]
    }
   ],
   "source": [
    "print(model)\n",
    "print(f\"Total number of parameters: {sum(p.numel() for p in model.parameters())}\")"
   ]
  },
  {
   "cell_type": "markdown",
   "id": "e5bcc6c4-9045-43ce-abf8-601777bf1f85",
   "metadata": {},
   "source": [
    "# %% [markdown]\n",
    "\n",
    "## 15. Define the optimizer and the loss function"
   ]
  },
  {
   "cell_type": "code",
   "execution_count": null,
   "id": "210ac6bf-84d4-41f2-b72d-aa0d03ecfaba",
   "metadata": {},
   "outputs": [],
   "source": [
    "criterion = nn.CrossEntropyLoss()\n",
    "optimizer = optim.Adam(model.parameters(), lr=LEARNING_RATE)"
   ]
  },
  {
   "cell_type": "markdown",
   "id": "1f0b7025-11f5-4c72-aa73-daecb5c18cf0",
   "metadata": {},
   "source": [
    "# %% [markdown]\n",
    "\n",
    "## 16. Define the training loop"
   ]
  },
  {
   "cell_type": "code",
   "execution_count": null,
   "id": "2e287b0f-d645-4bd0-b481-dddf9b30bcb6",
   "metadata": {},
   "outputs": [],
   "source": [
    "def train_model(model, train_loader, optimizer, criterion, device, epoch):\n",
    "    model.train()\n",
    "    total_loss = 0\n",
    "    correct = 0\n",
    "    for (data, target) in train_loader:\n",
    "        # 1. Move the data to the device\n",
    "        data, target = data.to(device), target.to(device) # (B, 3, 32, 32)\n",
    "        # 2. Zero the gradients\n",
    "        optimizer.zero_grad()\n",
    "        # 3. Forward pass\n",
    "        output = model(data)\n",
    "        # 4. Calculate the loss\n",
    "        loss = criterion(output, target)\n",
    "        # 5. Backward pass\n",
    "        loss.backward()\n",
    "        # 6. Update the weights\n",
    "        optimizer.step()\n",
    "        # 7. Update the loss\n",
    "        total_loss += loss.item() * data.size(0) # (B, 3, 32, 32)\n",
    "        # 8. Update the accuracy\n",
    "        correct += (output.argmax(dim=1) == target).sum().item()\n",
    "    # 11. Return the loss and the accuracy\n",
    "    return total_loss / len(train_loader.dataset), correct / len(train_loader.dataset)"
   ]
  },
  {
   "cell_type": "markdown",
   "id": "fd37c33b-cad9-40b0-a3c2-b598579543f0",
   "metadata": {},
   "source": [
    "# %% [markdown]\n",
    "\n",
    "## 17. Define the validation loop"
   ]
  },
  {
   "cell_type": "code",
   "execution_count": null,
   "id": "8a33689a-40bf-46b5-b455-d54ae56ffec8",
   "metadata": {},
   "outputs": [],
   "source": [
    "def validate_model(model, test_loader, criterion, device):\n",
    "    model.eval()\n",
    "    total_loss = 0\n",
    "    correct = 0\n",
    "    with torch.inference_mode():\n",
    "        for (data, target) in test_loader:\n",
    "            # 1. Move the data to the device\n",
    "            data, target = data.to(device), target.to(device) # (B, 3, 32, 32)\n",
    "            # 2. Forward pass\n",
    "            output = model(data)\n",
    "            # 3. Calculate the loss\n",
    "            loss = criterion(output, target)\n",
    "            # 4. Update the loss\n",
    "            total_loss += loss.item() * data.size(0) # (B, 3, 32, 32)\n",
    "            # 5. Update the accuracy\n",
    "            correct += (output.argmax(dim=1) == target).sum().item()\n",
    "    # 8. Return the loss and the accuracy\n",
    "    return total_loss / len(test_loader.dataset), correct / len(test_loader.dataset)"
   ]
  },
  {
   "cell_type": "markdown",
   "id": "c4575c09-46ed-48b3-941f-457e12d21277",
   "metadata": {},
   "source": [
    "# %% [markdown]\n",
    "\n",
    "## 18. Train the model"
   ]
  },
  {
   "cell_type": "code",
   "execution_count": null,
   "id": "bec15ac7-876b-41ca-8bac-d2d855755d0c",
   "metadata": {},
   "outputs": [
    {
     "name": "stderr",
     "output_type": "stream",
     "text": [
      "Training:   3%|▎         | 1/30 [00:54<26:19, 54.45s/it]"
     ]
    },
    {
     "name": "stdout",
     "output_type": "stream",
     "text": [
      "Epoch 0/30 | Train Loss 1.9265 | Train Accuracy 0.2911% | Test Loss 1.7278 | Test Accuracy 0.3781%\n"
     ]
    },
    {
     "name": "stderr",
     "output_type": "stream",
     "text": [
      "Training:   7%|▋         | 2/30 [01:48<25:25, 54.49s/it]"
     ]
    },
    {
     "name": "stdout",
     "output_type": "stream",
     "text": [
      "Epoch 1/30 | Train Loss 1.6659 | Train Accuracy 0.3953% | Test Loss 1.5668 | Test Accuracy 0.4349%\n"
     ]
    },
    {
     "name": "stderr",
     "output_type": "stream",
     "text": [
      "Training:  10%|█         | 3/30 [02:43<24:32, 54.53s/it]"
     ]
    },
    {
     "name": "stdout",
     "output_type": "stream",
     "text": [
      "Epoch 2/30 | Train Loss 1.5615 | Train Accuracy 0.4371% | Test Loss 1.5181 | Test Accuracy 0.4496%\n"
     ]
    },
    {
     "name": "stderr",
     "output_type": "stream",
     "text": [
      "Training:  13%|█▎        | 4/30 [03:38<23:37, 54.51s/it]"
     ]
    },
    {
     "name": "stdout",
     "output_type": "stream",
     "text": [
      "Epoch 3/30 | Train Loss 1.4870 | Train Accuracy 0.4630% | Test Loss 1.4317 | Test Accuracy 0.4846%\n"
     ]
    },
    {
     "name": "stderr",
     "output_type": "stream",
     "text": [
      "Training:  17%|█▋        | 5/30 [04:32<22:40, 54.44s/it]"
     ]
    },
    {
     "name": "stdout",
     "output_type": "stream",
     "text": [
      "Epoch 4/30 | Train Loss 1.4274 | Train Accuracy 0.4856% | Test Loss 1.3949 | Test Accuracy 0.5014%\n"
     ]
    },
    {
     "name": "stderr",
     "output_type": "stream",
     "text": [
      "Training:  20%|██        | 6/30 [05:26<21:45, 54.38s/it]"
     ]
    },
    {
     "name": "stdout",
     "output_type": "stream",
     "text": [
      "Epoch 5/30 | Train Loss 1.3773 | Train Accuracy 0.5052% | Test Loss 1.3483 | Test Accuracy 0.5118%\n"
     ]
    },
    {
     "name": "stderr",
     "output_type": "stream",
     "text": [
      "Training:  23%|██▎       | 7/30 [06:21<20:51, 54.40s/it]"
     ]
    },
    {
     "name": "stdout",
     "output_type": "stream",
     "text": [
      "Epoch 6/30 | Train Loss 1.3331 | Train Accuracy 0.5213% | Test Loss 1.2844 | Test Accuracy 0.5403%\n"
     ]
    },
    {
     "name": "stderr",
     "output_type": "stream",
     "text": [
      "Training:  27%|██▋       | 8/30 [07:15<19:56, 54.39s/it]"
     ]
    },
    {
     "name": "stdout",
     "output_type": "stream",
     "text": [
      "Epoch 7/30 | Train Loss 1.2934 | Train Accuracy 0.5361% | Test Loss 1.2606 | Test Accuracy 0.5474%\n"
     ]
    },
    {
     "name": "stderr",
     "output_type": "stream",
     "text": [
      "Training:  30%|███       | 9/30 [08:09<19:01, 54.34s/it]"
     ]
    },
    {
     "name": "stdout",
     "output_type": "stream",
     "text": [
      "Epoch 8/30 | Train Loss 1.2558 | Train Accuracy 0.5501% | Test Loss 1.2328 | Test Accuracy 0.5588%\n"
     ]
    },
    {
     "name": "stderr",
     "output_type": "stream",
     "text": [
      "Training:  33%|███▎      | 10/30 [09:03<18:06, 54.30s/it]"
     ]
    },
    {
     "name": "stdout",
     "output_type": "stream",
     "text": [
      "Epoch 9/30 | Train Loss 1.2197 | Train Accuracy 0.5638% | Test Loss 1.2063 | Test Accuracy 0.5641%\n"
     ]
    },
    {
     "name": "stderr",
     "output_type": "stream",
     "text": [
      "Training:  37%|███▋      | 11/30 [09:57<17:08, 54.15s/it]"
     ]
    },
    {
     "name": "stdout",
     "output_type": "stream",
     "text": [
      "Epoch 10/30 | Train Loss 1.1846 | Train Accuracy 0.5798% | Test Loss 1.1549 | Test Accuracy 0.5825%\n"
     ]
    },
    {
     "name": "stderr",
     "output_type": "stream",
     "text": [
      "Training:  40%|████      | 12/30 [10:51<16:13, 54.08s/it]"
     ]
    },
    {
     "name": "stdout",
     "output_type": "stream",
     "text": [
      "Epoch 11/30 | Train Loss 1.1512 | Train Accuracy 0.5875% | Test Loss 1.1750 | Test Accuracy 0.5784%\n"
     ]
    },
    {
     "name": "stderr",
     "output_type": "stream",
     "text": [
      "Training:  43%|████▎     | 13/30 [11:45<15:17, 53.98s/it]"
     ]
    },
    {
     "name": "stdout",
     "output_type": "stream",
     "text": [
      "Epoch 12/30 | Train Loss 1.1198 | Train Accuracy 0.5980% | Test Loss 1.1041 | Test Accuracy 0.6064%\n"
     ]
    },
    {
     "name": "stderr",
     "output_type": "stream",
     "text": [
      "Training:  47%|████▋     | 14/30 [12:39<14:23, 53.95s/it]"
     ]
    },
    {
     "name": "stdout",
     "output_type": "stream",
     "text": [
      "Epoch 13/30 | Train Loss 1.0928 | Train Accuracy 0.6099% | Test Loss 1.0706 | Test Accuracy 0.6148%\n"
     ]
    },
    {
     "name": "stderr",
     "output_type": "stream",
     "text": [
      "Training:  50%|█████     | 15/30 [13:33<13:29, 53.95s/it]"
     ]
    },
    {
     "name": "stdout",
     "output_type": "stream",
     "text": [
      "Epoch 14/30 | Train Loss 1.0643 | Train Accuracy 0.6202% | Test Loss 1.0858 | Test Accuracy 0.6200%\n"
     ]
    },
    {
     "name": "stderr",
     "output_type": "stream",
     "text": [
      "Training:  53%|█████▎    | 16/30 [14:27<12:35, 53.98s/it]"
     ]
    },
    {
     "name": "stdout",
     "output_type": "stream",
     "text": [
      "Epoch 15/30 | Train Loss 1.0432 | Train Accuracy 0.6304% | Test Loss 1.0511 | Test Accuracy 0.6262%\n"
     ]
    },
    {
     "name": "stderr",
     "output_type": "stream",
     "text": [
      "Training:  57%|█████▋    | 17/30 [15:21<11:41, 53.98s/it]"
     ]
    },
    {
     "name": "stdout",
     "output_type": "stream",
     "text": [
      "Epoch 16/30 | Train Loss 1.0175 | Train Accuracy 0.6382% | Test Loss 1.0381 | Test Accuracy 0.6269%\n"
     ]
    },
    {
     "name": "stderr",
     "output_type": "stream",
     "text": [
      "Training:  60%|██████    | 18/30 [16:15<10:47, 53.97s/it]"
     ]
    },
    {
     "name": "stdout",
     "output_type": "stream",
     "text": [
      "Epoch 17/30 | Train Loss 0.9971 | Train Accuracy 0.6441% | Test Loss 1.0313 | Test Accuracy 0.6370%\n"
     ]
    },
    {
     "name": "stderr",
     "output_type": "stream",
     "text": [
      "Training:  63%|██████▎   | 19/30 [17:08<09:53, 53.92s/it]"
     ]
    },
    {
     "name": "stdout",
     "output_type": "stream",
     "text": [
      "Epoch 18/30 | Train Loss 0.9793 | Train Accuracy 0.6523% | Test Loss 0.9829 | Test Accuracy 0.6449%\n"
     ]
    },
    {
     "name": "stderr",
     "output_type": "stream",
     "text": [
      "Training:  67%|██████▋   | 20/30 [18:03<08:59, 53.97s/it]"
     ]
    },
    {
     "name": "stdout",
     "output_type": "stream",
     "text": [
      "Epoch 19/30 | Train Loss 0.9518 | Train Accuracy 0.6614% | Test Loss 1.0021 | Test Accuracy 0.6437%\n"
     ]
    },
    {
     "name": "stderr",
     "output_type": "stream",
     "text": [
      "Training:  70%|███████   | 21/30 [18:57<08:06, 54.03s/it]"
     ]
    },
    {
     "name": "stdout",
     "output_type": "stream",
     "text": [
      "Epoch 20/30 | Train Loss 0.9353 | Train Accuracy 0.6714% | Test Loss 0.9870 | Test Accuracy 0.6512%\n"
     ]
    },
    {
     "name": "stderr",
     "output_type": "stream",
     "text": [
      "Training:  73%|███████▎  | 22/30 [19:51<07:11, 53.98s/it]"
     ]
    },
    {
     "name": "stdout",
     "output_type": "stream",
     "text": [
      "Epoch 21/30 | Train Loss 0.9259 | Train Accuracy 0.6721% | Test Loss 0.9571 | Test Accuracy 0.6643%\n"
     ]
    },
    {
     "name": "stderr",
     "output_type": "stream",
     "text": [
      "Training:  77%|███████▋  | 23/30 [20:45<06:18, 54.00s/it]"
     ]
    },
    {
     "name": "stdout",
     "output_type": "stream",
     "text": [
      "Epoch 22/30 | Train Loss 0.9018 | Train Accuracy 0.6780% | Test Loss 0.9403 | Test Accuracy 0.6730%\n"
     ]
    },
    {
     "name": "stderr",
     "output_type": "stream",
     "text": [
      "Training:  80%|████████  | 24/30 [21:38<05:23, 53.92s/it]"
     ]
    },
    {
     "name": "stdout",
     "output_type": "stream",
     "text": [
      "Epoch 23/30 | Train Loss 0.8867 | Train Accuracy 0.6847% | Test Loss 0.9420 | Test Accuracy 0.6718%\n"
     ]
    },
    {
     "name": "stderr",
     "output_type": "stream",
     "text": [
      "Training:  83%|████████▎ | 25/30 [22:32<04:29, 53.94s/it]"
     ]
    },
    {
     "name": "stdout",
     "output_type": "stream",
     "text": [
      "Epoch 24/30 | Train Loss 0.8725 | Train Accuracy 0.6908% | Test Loss 0.9275 | Test Accuracy 0.6709%\n"
     ]
    },
    {
     "name": "stderr",
     "output_type": "stream",
     "text": [
      "Training:  87%|████████▋ | 26/30 [23:27<03:36, 54.04s/it]"
     ]
    },
    {
     "name": "stdout",
     "output_type": "stream",
     "text": [
      "Epoch 25/30 | Train Loss 0.8522 | Train Accuracy 0.6954% | Test Loss 0.8906 | Test Accuracy 0.6830%\n"
     ]
    },
    {
     "name": "stderr",
     "output_type": "stream",
     "text": [
      "Training:  90%|█████████ | 27/30 [24:22<02:42, 54.30s/it]"
     ]
    },
    {
     "name": "stdout",
     "output_type": "stream",
     "text": [
      "Epoch 26/30 | Train Loss 0.8383 | Train Accuracy 0.7010% | Test Loss 0.9222 | Test Accuracy 0.6783%\n"
     ]
    },
    {
     "name": "stderr",
     "output_type": "stream",
     "text": [
      "Training:  93%|█████████▎| 28/30 [25:16<01:48, 54.46s/it]"
     ]
    },
    {
     "name": "stdout",
     "output_type": "stream",
     "text": [
      "Epoch 27/30 | Train Loss 0.8182 | Train Accuracy 0.7078% | Test Loss 0.8940 | Test Accuracy 0.6876%\n"
     ]
    },
    {
     "name": "stderr",
     "output_type": "stream",
     "text": [
      "Training:  97%|█████████▋| 29/30 [26:11<00:54, 54.51s/it]"
     ]
    },
    {
     "name": "stdout",
     "output_type": "stream",
     "text": [
      "Epoch 28/30 | Train Loss 0.8026 | Train Accuracy 0.7165% | Test Loss 0.8791 | Test Accuracy 0.6932%\n"
     ]
    },
    {
     "name": "stderr",
     "output_type": "stream",
     "text": [
      "Training: 100%|██████████| 30/30 [27:05<00:00, 54.18s/it]"
     ]
    },
    {
     "name": "stdout",
     "output_type": "stream",
     "text": [
      "Epoch 29/30 | Train Loss 0.7853 | Train Accuracy 0.7197% | Test Loss 0.8779 | Test Accuracy 0.6913%\n"
     ]
    },
    {
     "name": "stderr",
     "output_type": "stream",
     "text": [
      "\n"
     ]
    }
   ],
   "source": [
    "best_loss = float('inf')\n",
    "train_accuracies = []\n",
    "test_accuracies = []\n",
    "train_losses = []\n",
    "test_losses = []\n",
    "for epoch in tqdm(range(EPOCHS), desc=\"Training\"):\n",
    "    train_loss, train_accuracy = train_model(model, train_loader, optimizer, criterion, device, epoch)\n",
    "    test_loss, test_accuracy = validate_model(model, test_loader, criterion, device)\n",
    "    train_losses.append(train_loss)\n",
    "    test_losses.append(test_loss)\n",
    "    train_accuracies.append(train_accuracy)\n",
    "    test_accuracies.append(test_accuracy)\n",
    "    print(f\"Epoch {epoch}/{EPOCHS} | Train Loss {train_loss:.4f} | Train Accuracy {train_accuracy:.4f}% | Test Loss {test_loss:.4f} | Test Accuracy {test_accuracy:.4f}%\")\n",
    "    # save the checkpoint if the validation loss is the lowest\n",
    "    if test_loss < best_loss:\n",
    "        best_loss = test_loss\n",
    "        torch.save(model.state_dict(), \"vision_transformer_best_model.pth\")"
   ]
  },
  {
   "cell_type": "markdown",
   "id": "e001b9bf-292e-485d-a245-87d7aa011a78",
   "metadata": {},
   "source": [
    "# %% [markdown]\n",
    "\n",
    "## 19. Load the best model"
   ]
  },
  {
   "cell_type": "code",
   "execution_count": null,
   "id": "9e350207-1b3c-4ec0-9478-6ff94bf21bfd",
   "metadata": {},
   "outputs": [
    {
     "data": {
      "text/plain": [
       "<All keys matched successfully>"
      ]
     },
     "execution_count": 59,
     "metadata": {},
     "output_type": "execute_result"
    }
   ],
   "source": [
    "model.load_state_dict(torch.load(\"vision_transformer_best_model.pth\"))"
   ]
  },
  {
   "cell_type": "markdown",
   "id": "3ee1e3da-5155-4a8f-8ddc-d48fb84c1210",
   "metadata": {},
   "source": [
    "# %% [markdown]\n",
    "\n",
    "## 20. Plot the training and validation accuracy with loss in two subplots in vertical format"
   ]
  },
  {
   "cell_type": "code",
   "execution_count": null,
   "id": "6c404e6b-b2eb-4cd2-b207-c4dcb4249167",
   "metadata": {},
   "outputs": [
    {
     "data": {
      "image/png": "[encoded data removed]",
      "text/plain": [
       "<Figure size 500x1000 with 2 Axes>"
      ]
     },
     "metadata": {},
     "output_type": "display_data"
    }
   ],
   "source": [
    "plt.figure(figsize=(5, 10))\n",
    "plt.subplot(2, 1, 1)\n",
    "plt.plot(train_accuracies, label=\"Train Accuracy\")\n",
    "plt.plot(test_accuracies, label=\"Test Accuracy\")\n",
    "plt.title(\"Accuracy\")   \n",
    "plt.legend()\n",
    "plt.subplot(2, 1, 2)\n",
    "plt.plot(train_losses, label=\"Train Loss\")\n",
    "plt.plot(test_losses, label=\"Test Loss\")\n",
    "plt.title(\"Loss\")\n",
    "plt.legend()\n",
    "plt.show()"
   ]
  },
  {
   "cell_type": "markdown",
   "id": "162e7edb-d036-4ca3-ab7e-a2276636e65f",
   "metadata": {},
   "source": [
    "# %% [markdown]\n",
    "\n",
    "## 21. Predict and plot the grid of random images"
   ]
  },
  {
   "cell_type": "code",
   "execution_count": null,
   "id": "c79a79cf-e183-4acb-9f2a-66398b8ebaed",
   "metadata": {},
   "outputs": [
    {
     "name": "stderr",
     "output_type": "stream",
     "text": [
      "Clipping input data to the valid range for imshow with RGB data ([0..1] for floats or [0..255] for integers). Got range [-1.0..0.92156863].\n",
      "Clipping input data to the valid range for imshow with RGB data ([0..1] for floats or [0..255] for integers). Got range [-0.92941177..0.8745098].\n",
      "Clipping input data to the valid range for imshow with RGB data ([0..1] for floats or [0..255] for integers). Got range [-1.0..1.0].\n",
      "Clipping input data to the valid range for imshow with RGB data ([0..1] for floats or [0..255] for integers). Got range [-1.0..0.8509804].\n",
      "Clipping input data to the valid range for imshow with RGB data ([0..1] for floats or [0..255] for integers). Got range [-0.9529412..0.9372549].\n",
      "Clipping input data to the valid range for imshow with RGB data ([0..1] for floats or [0..255] for integers). Got range [-0.9764706..0.79607844].\n",
      "Clipping input data to the valid range for imshow with RGB data ([0..1] for floats or [0..255] for integers). Got range [-1.0..1.0].\n",
      "Clipping input data to the valid range for imshow with RGB data ([0..1] for floats or [0..255] for integers). Got range [-0.9529412..0.94509804].\n",
      "Clipping input data to the valid range for imshow with RGB data ([0..1] for floats or [0..255] for integers). Got range [-0.9843137..0.7254902].\n"
     ]
    },
    {
     "data": {
      "image/png": "[encoded data removed]",
      "text/plain": [
       "<Figure size 1000x1000 with 9 Axes>"
      ]
     },
     "metadata": {},
     "output_type": "display_data"
    }
   ],
   "source": [
    "def predict_and_plot_grid(model, dataset, classes, num_images=9, max_rows=3, fontsize=8):\n",
    "    model.eval()\n",
    "    with torch.inference_mode():\n",
    "        plt.figure(figsize=(10, 10))\n",
    "        for i in range(num_images):\n",
    "            img, label = random.choice(dataset)\n",
    "            output = model(img.unsqueeze(0).to(device))\n",
    "            pred_label = classes[output.argmax(dim=1)]\n",
    "            plt.subplot(max_rows, num_images // max_rows, i + 1)\n",
    "            plt.imshow(img.permute(1, 2, 0))\n",
    "            plt.title(f\"Pred: {pred_label} \\n True: {classes[label]}\", fontsize=fontsize, color=\"green\" if pred_label == classes[label] else \"red\")\n",
    "    plt.tight_layout()\n",
    "    plt.show()\n",
    "    \n",
    "predict_and_plot_grid(model, test_dataset, test_dataset.classes, num_images=9, fontsize=15)"
   ]
  }
 ],
 "metadata": {
  "language_info": {
   "codemirror_mode": {
    "name": "ipython",
    "version": 3
   },
   "file_extension": ".py",
   "mimetype": "text/x-python",
   "name": "python",
   "nbconvert_exporter": "python",
   "pygments_lexer": "ipython3",
   "version": 3
  }
 },
 "nbformat": 4,
 "nbformat_minor": 2
}
